{
 "cells": [
  {
   "cell_type": "markdown",
   "metadata": {},
   "source": [
    "# Car Sales Dataset"
   ]
  },
  {
   "cell_type": "markdown",
   "metadata": {},
   "source": [
    "## Background & Context\n",
    "\n",
    "There is always a huge demand for used cars. As sales of new cars have slowed down in the recent past, the pre-owned car market has continued to grow over the past years and is larger than the new car market now. Cars4U is a growing tech start-up in North America that aims to find a good strategy in this market.\n",
    "\n",
    "In 2018-19, while new car sales were recorded at 3.6 million units, around 4 million second-hand cars were bought and sold. There is a slowdown in new car sales and that could mean that the demand is shifting towards the pre-owned market. In fact, some car sellers replace their old cars with pre-owned cars instead of buying new ones. Keeping this in mind, the pricing scheme of these used cars becomes important in order to grow in the market.\n",
    "\n",
    "As a senior data scientist at Cars4U, you have to come up with a pricing model that can effectively predict the price of used cars and can help the business in devising profitable strategies using differential pricing. For example, if the business knows the market price, it will never sell anything below it.\n",
    "\n",
    "For now your objective is:\n",
    "\n",
    "### **The objectives:**\n",
    "* Explore basic stats and visualize the dataset.\n",
    "* Generate a set of insights and recommendations that will help the business.\n",
    "\n",
    "### **The key questions:**\n",
    "* Which factors would affect the price of used cars?\n",
    "\n",
    "\n",
    "### **Data Dictionary**\n",
    "\n",
    "**Manufacturer** : Name of the car which includes Brand name\n",
    "\n",
    "**Model** : Name of the car which includes Model name\n",
    "\n",
    "**Type** : Size of the car whether 'Small', 'Midsize', 'Compact', 'Large', 'Sporty', 'Van'. 6 unique types.\n",
    "\n",
    "**Year** : Manufacturing year of the car\n",
    "\n",
    "**MPG.City** : Total miles the car runs per gallon in city.\n",
    "\n",
    "**MPG.Highway** : Total miles the car runs per gallon on highway.\n",
    "\n",
    "**Transmission** : The type of transmission used by the car. (Automatic / Manual)\n",
    "\n",
    "**Drive** : Type of drive (All Wheel Drive vs Front wheel drive).\n",
    "\n",
    "**Cylinders** : Number of cylinders in the engine.\n",
    "\n",
    "**Transmission** : Automatic or Manual.\n",
    "\n",
    "**Passengers** : Number of seats in the car.\n",
    "\n",
    "**Price** : The price of the used car in x 1000 USD (**Target Variable**)"
   ]
  },
  {
   "cell_type": "code",
   "execution_count": 1,
   "metadata": {},
   "outputs": [],
   "source": [
    "# import necessary libraries\n"
   ]
  },
  {
   "cell_type": "code",
   "execution_count": 2,
   "metadata": {},
   "outputs": [],
   "source": [
    "# Read the car_sales.csv data and store it as a dataframe\n"
   ]
  },
  {
   "cell_type": "code",
   "execution_count": 3,
   "metadata": {},
   "outputs": [],
   "source": [
    "# View the top 10 rows of the dataframe\n"
   ]
  },
  {
   "cell_type": "code",
   "execution_count": 4,
   "metadata": {},
   "outputs": [],
   "source": [
    "# get basic info\n"
   ]
  },
  {
   "cell_type": "code",
   "execution_count": 5,
   "metadata": {},
   "outputs": [],
   "source": [
    "# difference between df.MPG Highway and df['MPG Highway']\n"
   ]
  },
  {
   "cell_type": "code",
   "execution_count": 6,
   "metadata": {},
   "outputs": [],
   "source": [
    "# get stats for both numerical and categorical (object) columns\n"
   ]
  },
  {
   "cell_type": "code",
   "execution_count": 7,
   "metadata": {},
   "outputs": [],
   "source": [
    "# Find the unique classes in the Type column\n"
   ]
  },
  {
   "cell_type": "code",
   "execution_count": 8,
   "metadata": {},
   "outputs": [],
   "source": [
    "# Plot a histogram for Passengers features and identify the type of distribution \n"
   ]
  },
  {
   "cell_type": "code",
   "execution_count": 9,
   "metadata": {},
   "outputs": [],
   "source": [
    "# check the datatype of variable Cylinders\n"
   ]
  },
  {
   "cell_type": "code",
   "execution_count": 10,
   "metadata": {},
   "outputs": [],
   "source": [
    "# find the average price of the cars in this dataset\n"
   ]
  },
  {
   "cell_type": "code",
   "execution_count": 11,
   "metadata": {},
   "outputs": [],
   "source": [
    "# Get the five number summary of 'Passengers' variable\n"
   ]
  },
  {
   "cell_type": "code",
   "execution_count": 12,
   "metadata": {},
   "outputs": [],
   "source": [
    "# Plot a box plot for Passengers variable\n"
   ]
  },
  {
   "cell_type": "markdown",
   "metadata": {},
   "source": [
    "The minimum value in a box plot is the lower whisker, which is defined as the lowest value that is within 1.5 times the interquartile range (IQR) from the lower quartile (Q1). The lower whisker represents the lowest values in the dataset that are not considered outliers.\n",
    "\n",
    "The maximum value in a box plot is the upper whisker, which is defined as the highest value that is within 1.5 times the IQR from the upper quartile (Q3). The upper whisker represents the highest values in the dataset that are not considered outliers.\n",
    "\n",
    "The IQR is the range between the first quartile (25th percentile) and the third quartile (75th percentile) of the data. Outliers are defined as values that fall below Q1 - 1.5 * IQR or above Q3 + 1.5 * IQR. In a box plot, outliers are represented by individual points outside the whiskers."
   ]
  },
  {
   "cell_type": "code",
   "execution_count": 13,
   "metadata": {},
   "outputs": [],
   "source": [
    "# Plot the correlation Matrix\n"
   ]
  },
  {
   "cell_type": "code",
   "execution_count": 14,
   "metadata": {},
   "outputs": [],
   "source": [
    "# Plot a chart of 'Type' vs 'Price'\n"
   ]
  },
  {
   "cell_type": "code",
   "execution_count": 15,
   "metadata": {},
   "outputs": [],
   "source": [
    "# Plot a chart of 'Drive' vs 'Price'\n"
   ]
  }
 ],
 "metadata": {
  "kernelspec": {
   "display_name": "Python 3 (ipykernel)",
   "language": "python",
   "name": "python3"
  },
  "language_info": {
   "codemirror_mode": {
    "name": "ipython",
    "version": 3
   },
   "file_extension": ".py",
   "mimetype": "text/x-python",
   "name": "python",
   "nbconvert_exporter": "python",
   "pygments_lexer": "ipython3",
   "version": "3.9.13"
  }
 },
 "nbformat": 4,
 "nbformat_minor": 2
}
